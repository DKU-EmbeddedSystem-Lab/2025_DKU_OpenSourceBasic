{
  "nbformat": 4,
  "nbformat_minor": 0,
  "metadata": {
    "colab": {
      "provenance": [],
      "include_colab_link": true
    },
    "kernelspec": {
      "name": "python3",
      "display_name": "Python 3"
    },
    "language_info": {
      "name": "python"
    }
  },
  "cells": [
    {
      "cell_type": "markdown",
      "metadata": {
        "id": "view-in-github",
        "colab_type": "text"
      },
      "source": [
        "<a href=\"https://colab.research.google.com/github/Kimyoungchae1118/2025_DKU_OpenSourceBasic/blob/32240902/Chapter_2_%E1%84%8B%E1%85%A5%E1%86%AB%E1%84%8B%E1%85%A5%E1%84%86%E1%85%A9%E1%84%83%E1%85%A6%E1%86%AF%E1%84%8B%E1%85%A6_%E1%84%83%E1%85%A2%E1%84%92%E1%85%A1%E1%86%AB_%E1%84%8B%E1%85%B5%E1%84%92%E1%85%A2.ipynb\" target=\"_parent\"><img src=\"https://colab.research.google.com/assets/colab-badge.svg\" alt=\"Open In Colab\"/></a>"
      ]
    },
    {
      "cell_type": "markdown",
      "source": [
        "#Bag‑of‑Words 예제 코드\n",
        "\n",
        "다음 코드를 Colab의 셀에 복사하여 실행하면 Bag‑of‑Words 모델의 기본 개념을 실습할 수 있습니다.\n"
      ],
      "metadata": {
        "id": "3g7X6t5WHDsy"
      }
    },
    {
      "cell_type": "code",
      "source": [
        "!pip install nltk"
      ],
      "metadata": {
        "colab": {
          "base_uri": "https://localhost:8080/"
        },
        "id": "Exdf7m-CIoZS",
        "outputId": "9f9986a9-303d-4a76-8291-fa2b17433184"
      },
      "execution_count": null,
      "outputs": [
        {
          "output_type": "stream",
          "name": "stdout",
          "text": [
            "Requirement already satisfied: nltk in /usr/local/lib/python3.11/dist-packages (3.9.1)\n",
            "Requirement already satisfied: click in /usr/local/lib/python3.11/dist-packages (from nltk) (8.1.8)\n",
            "Requirement already satisfied: joblib in /usr/local/lib/python3.11/dist-packages (from nltk) (1.4.2)\n",
            "Requirement already satisfied: regex>=2021.8.3 in /usr/local/lib/python3.11/dist-packages (from nltk) (2024.11.6)\n",
            "Requirement already satisfied: tqdm in /usr/local/lib/python3.11/dist-packages (from nltk) (4.67.1)\n"
          ]
        }
      ]
    },
    {
      "cell_type": "code",
      "source": [
        "string.punctuation"
      ],
      "metadata": {
        "colab": {
          "base_uri": "https://localhost:8080/",
          "height": 36
        },
        "id": "nNOTObdWJRxw",
        "outputId": "54e8dbb9-91f7-45fb-af71-eb9fb96bb497"
      },
      "execution_count": 6,
      "outputs": [
        {
          "output_type": "execute_result",
          "data": {
            "text/plain": [
              "'!\"#$%&\\'()*+,-./:;<=>?@[\\\\]^_`{|}~'"
            ],
            "application/vnd.google.colaboratory.intrinsic+json": {
              "type": "string"
            }
          },
          "metadata": {},
          "execution_count": 6
        }
      ]
    },
    {
      "cell_type": "code",
      "source": [
        "text = corpus[0]\n",
        "text = text.lower()\n",
        "print(text)\n",
        "\n",
        "text = text.translate(str.maketrans(\"\", \"\", string.punctuation))  # 구두점 제거\n",
        "print(text)\n",
        "\n",
        "tokens = nltk.word_tokenize(text)\n",
        "print(tokens)\n",
        "\n",
        "print(len(tokens))\n",
        "\n",
        "\n"
      ],
      "metadata": {
        "colab": {
          "base_uri": "https://localhost:8080/"
        },
        "id": "LozVY1YQI932",
        "outputId": "ae8ec6af-2453-4165-e145-df8386cfb182"
      },
      "execution_count": 8,
      "outputs": [
        {
          "output_type": "stream",
          "name": "stdout",
          "text": [
            "llm has transformed natural language processing.\n",
            "llm has transformed natural language processing\n",
            "['llm', 'has', 'transformed', 'natural', 'language', 'processing']\n",
            "6\n"
          ]
        }
      ]
    },
    {
      "cell_type": "code",
      "source": [
        "for sentence in corpus:\n",
        "  print(sentence)"
      ],
      "metadata": {
        "colab": {
          "base_uri": "https://localhost:8080/"
        },
        "id": "pOXj7Q5qixVh",
        "outputId": "46a219c7-01ee-43bc-b472-5c87f76da52e"
      },
      "execution_count": 11,
      "outputs": [
        {
          "output_type": "stream",
          "name": "stdout",
          "text": [
            "LLM has transformed natural language processing.\n",
            "LLM such as GPT-4 and ChatGPT demonstrate remarkable understanding and creative capabilities.\n",
            "Prompt engineering plays a key role in enhancing LLM performance.\n",
            "Bag-of-words models, despite their simplicity, offer a baseline for feature extraction in text analysis.\n"
          ]
        }
      ]
    },
    {
      "cell_type": "code",
      "execution_count": 12,
      "metadata": {
        "colab": {
          "base_uri": "https://localhost:8080/"
        },
        "id": "59hHbnrHGx6_",
        "outputId": "206b8716-5f05-4cb1-98f1-69296056876c"
      },
      "outputs": [
        {
          "output_type": "stream",
          "name": "stdout",
          "text": [
            "[['llm', 'has', 'transformed', 'natural', 'language', 'processing'], ['llm', 'such', 'as', 'gpt4', 'and', 'chatgpt', 'demonstrate', 'remarkable', 'understanding', 'and', 'creative', 'capabilities'], ['prompt', 'engineering', 'plays', 'a', 'key', 'role', 'in', 'enhancing', 'llm', 'performance'], ['bagofwords', 'models', 'despite', 'their', 'simplicity', 'offer', 'a', 'baseline', 'for', 'feature', 'extraction', 'in', 'text', 'analysis']]\n",
            "Tokenized Corpus:\n",
            "['llm', 'has', 'transformed', 'natural', 'language', 'processing']\n",
            "['llm', 'such', 'as', 'gpt4', 'and', 'chatgpt', 'demonstrate', 'remarkable', 'understanding', 'and', 'creative', 'capabilities']\n",
            "['prompt', 'engineering', 'plays', 'a', 'key', 'role', 'in', 'enhancing', 'llm', 'performance']\n",
            "['bagofwords', 'models', 'despite', 'their', 'simplicity', 'offer', 'a', 'baseline', 'for', 'feature', 'extraction', 'in', 'text', 'analysis']\n"
          ]
        },
        {
          "output_type": "stream",
          "name": "stderr",
          "text": [
            "[nltk_data] Downloading package punkt_tab to /root/nltk_data...\n",
            "[nltk_data]   Package punkt_tab is already up-to-date!\n"
          ]
        }
      ],
      "source": [
        "# 필요한 라이브러리 import 및 NLTK 데이터 다운로드\n",
        "import nltk # 자연어 처리를 위한 라이브러리\n",
        "import string # 문자열 처리를 위한 기본 라이브러리\n",
        "import numpy as np\n",
        "import pandas as pd\n",
        "\n",
        "# NLTK의 punkt 토크나이저 다운로드\n",
        "# 문자열 처리해주는 코드\n",
        "nltk.download('punkt_tab')\n",
        "\n",
        "# 예제용 문장 데이터 (코퍼스)\n",
        "corpus = [\n",
        "    \"LLM has transformed natural language processing.\",\n",
        "    \"LLM such as GPT-4 and ChatGPT demonstrate remarkable understanding and creative capabilities.\",\n",
        "    \"Prompt engineering plays a key role in enhancing LLM performance.\",\n",
        "    \"Bag-of-words models, despite their simplicity, offer a baseline for feature extraction in text analysis.\"\n",
        "]\n",
        "\n",
        "## 1. Bag-of-Words 구현\n",
        "# 텍스트 전처리 함수: 소문자 변환, 구두점 제거, 토큰화\n",
        "def preprocess(text):\n",
        "    text = text.lower()  # 소문자 변환, 스트링이라는 자료형에서만 정의되어 내부함수 메소드이다\n",
        "    text = text.translate(str.maketrans(\"\", \"\", string.punctuation))  # 구두점 제거\n",
        "    tokens = nltk.word_tokenize(text)  # 토큰화\n",
        "    return tokens\n",
        "\n",
        "# 각 문장을 전처리하여 토큰화된 코퍼스 생성\n",
        "processed_corpus = [preprocess(sentence) for sentence in corpus]\n",
        "#위와 동일한 일반적인 for문을 쓰는 방법\n",
        "processed_corpus = []\n",
        "for sentence in corpus:\n",
        "  processed_corpus.append(preprocess(sentence))\n",
        "\n",
        "print(processed_corpus)\n",
        "#원래는 토큰화만 리스트 형태로 저장 되었지만, 문장 별로 토큰화가 되어 리스트 안에 리스트가 있다\n",
        "\n",
        "print(\"Tokenized Corpus:\")\n",
        "for tokens in processed_corpus:\n",
        "    print(tokens)\n"
      ]
    },
    {
      "cell_type": "code",
      "source": [
        "# 전체 코퍼스에서 중복없이 단어목록(vocabulary) 생성 후 정렬\n",
        "# vocabulary = sorted(list({token for sentence in processed_corpus for token in sentence}))\n",
        "# print(\"\\nVocabulary:\")\n",
        "# print(vocabulary)\n",
        "# 밑이랑 같은 뜻\n",
        "\n",
        "vocabulary = []\n",
        "\n",
        "for sentence in processed_corpus:\n",
        "  for tokens in sentence:\n",
        "    vocabulary.append(tokens)\n",
        "\n",
        "print(vocabulary)\n",
        "vocabulary = {*vocabulary}\n",
        "print(sorted(vocabulary))\n"
      ],
      "metadata": {
        "colab": {
          "base_uri": "https://localhost:8080/"
        },
        "id": "HfCBI-2Al2M8",
        "outputId": "34e57a3b-f133-4866-c797-bd1ce18e19b4"
      },
      "execution_count": 16,
      "outputs": [
        {
          "output_type": "stream",
          "name": "stdout",
          "text": [
            "['llm', 'has', 'transformed', 'natural', 'language', 'processing', 'llm', 'such', 'as', 'gpt4', 'and', 'chatgpt', 'demonstrate', 'remarkable', 'understanding', 'and', 'creative', 'capabilities', 'prompt', 'engineering', 'plays', 'a', 'key', 'role', 'in', 'enhancing', 'llm', 'performance', 'bagofwords', 'models', 'despite', 'their', 'simplicity', 'offer', 'a', 'baseline', 'for', 'feature', 'extraction', 'in', 'text', 'analysis']\n",
            "['a', 'analysis', 'and', 'as', 'bagofwords', 'baseline', 'capabilities', 'chatgpt', 'creative', 'demonstrate', 'despite', 'engineering', 'enhancing', 'extraction', 'feature', 'for', 'gpt4', 'has', 'in', 'key', 'language', 'llm', 'models', 'natural', 'offer', 'performance', 'plays', 'processing', 'prompt', 'remarkable', 'role', 'simplicity', 'such', 'text', 'their', 'transformed', 'understanding']\n"
          ]
        }
      ]
    },
    {
      "cell_type": "code",
      "source": [
        "bow_matrix   #전체적으로 보기"
      ],
      "metadata": {
        "colab": {
          "base_uri": "https://localhost:8080/"
        },
        "id": "K7Dvf_Vur7OU",
        "outputId": "8cd22cbb-d109-44de-9c4e-5ced3531e6b0"
      },
      "execution_count": 17,
      "outputs": [
        {
          "output_type": "execute_result",
          "data": {
            "text/plain": [
              "[[0,\n",
              "  0,\n",
              "  0,\n",
              "  0,\n",
              "  0,\n",
              "  0,\n",
              "  0,\n",
              "  0,\n",
              "  0,\n",
              "  0,\n",
              "  0,\n",
              "  0,\n",
              "  0,\n",
              "  0,\n",
              "  0,\n",
              "  0,\n",
              "  0,\n",
              "  1,\n",
              "  0,\n",
              "  0,\n",
              "  1,\n",
              "  1,\n",
              "  0,\n",
              "  1,\n",
              "  0,\n",
              "  0,\n",
              "  0,\n",
              "  1,\n",
              "  0,\n",
              "  0,\n",
              "  0,\n",
              "  0,\n",
              "  0,\n",
              "  0,\n",
              "  0,\n",
              "  1,\n",
              "  0],\n",
              " [0,\n",
              "  0,\n",
              "  2,\n",
              "  1,\n",
              "  0,\n",
              "  0,\n",
              "  1,\n",
              "  1,\n",
              "  1,\n",
              "  1,\n",
              "  0,\n",
              "  0,\n",
              "  0,\n",
              "  0,\n",
              "  0,\n",
              "  0,\n",
              "  1,\n",
              "  0,\n",
              "  0,\n",
              "  0,\n",
              "  0,\n",
              "  1,\n",
              "  0,\n",
              "  0,\n",
              "  0,\n",
              "  0,\n",
              "  0,\n",
              "  0,\n",
              "  0,\n",
              "  1,\n",
              "  0,\n",
              "  0,\n",
              "  1,\n",
              "  0,\n",
              "  0,\n",
              "  0,\n",
              "  1],\n",
              " [1,\n",
              "  0,\n",
              "  0,\n",
              "  0,\n",
              "  0,\n",
              "  0,\n",
              "  0,\n",
              "  0,\n",
              "  0,\n",
              "  0,\n",
              "  0,\n",
              "  1,\n",
              "  1,\n",
              "  0,\n",
              "  0,\n",
              "  0,\n",
              "  0,\n",
              "  0,\n",
              "  1,\n",
              "  1,\n",
              "  0,\n",
              "  1,\n",
              "  0,\n",
              "  0,\n",
              "  0,\n",
              "  1,\n",
              "  1,\n",
              "  0,\n",
              "  1,\n",
              "  0,\n",
              "  1,\n",
              "  0,\n",
              "  0,\n",
              "  0,\n",
              "  0,\n",
              "  0,\n",
              "  0],\n",
              " [1,\n",
              "  1,\n",
              "  0,\n",
              "  0,\n",
              "  1,\n",
              "  1,\n",
              "  0,\n",
              "  0,\n",
              "  0,\n",
              "  0,\n",
              "  1,\n",
              "  0,\n",
              "  0,\n",
              "  1,\n",
              "  1,\n",
              "  1,\n",
              "  0,\n",
              "  0,\n",
              "  1,\n",
              "  0,\n",
              "  0,\n",
              "  0,\n",
              "  1,\n",
              "  0,\n",
              "  1,\n",
              "  0,\n",
              "  0,\n",
              "  0,\n",
              "  0,\n",
              "  0,\n",
              "  0,\n",
              "  1,\n",
              "  0,\n",
              "  1,\n",
              "  1,\n",
              "  0,\n",
              "  0]]"
            ]
          },
          "metadata": {},
          "execution_count": 17
        }
      ]
    },
    {
      "cell_type": "code",
      "source": [
        "bow_df_manual = pd.DataFrame(bow_matrix, columns=vocabulary)\n",
        "# pandas 라고 하는 파이썬 내부에서 엑셀같이 처리할 수 있도록 만들어주는 라이브러리\n",
        "print(bow_df_manual)"
      ],
      "metadata": {
        "colab": {
          "base_uri": "https://localhost:8080/",
          "height": 305
        },
        "id": "XSlUkjwfsP3G",
        "outputId": "46c6bdf4-8e74-4ec7-d8c4-a302e90fa39f"
      },
      "execution_count": 20,
      "outputs": [
        {
          "output_type": "error",
          "ename": "ValueError",
          "evalue": "columns cannot be a set",
          "traceback": [
            "\u001b[0;31m---------------------------------------------------------------------------\u001b[0m",
            "\u001b[0;31mValueError\u001b[0m                                Traceback (most recent call last)",
            "\u001b[0;32m<ipython-input-20-be1fced4da25>\u001b[0m in \u001b[0;36m<cell line: 0>\u001b[0;34m()\u001b[0m\n\u001b[0;32m----> 1\u001b[0;31m \u001b[0mbow_df_manual\u001b[0m \u001b[0;34m=\u001b[0m \u001b[0mpd\u001b[0m\u001b[0;34m.\u001b[0m\u001b[0mDataFrame\u001b[0m\u001b[0;34m(\u001b[0m\u001b[0mbow_matrix\u001b[0m\u001b[0;34m,\u001b[0m \u001b[0mcolumns\u001b[0m\u001b[0;34m=\u001b[0m\u001b[0mvocabulary\u001b[0m\u001b[0;34m)\u001b[0m\u001b[0;34m\u001b[0m\u001b[0;34m\u001b[0m\u001b[0m\n\u001b[0m\u001b[1;32m      2\u001b[0m \u001b[0;31m# pandas 라고 하는 파이썬 내부에서 엑셀같이 처리할 수 있도록 만들어주는 라이브러리\u001b[0m\u001b[0;34m\u001b[0m\u001b[0;34m\u001b[0m\u001b[0m\n\u001b[1;32m      3\u001b[0m \u001b[0mprint\u001b[0m\u001b[0;34m(\u001b[0m\u001b[0mbow_df_manual\u001b[0m\u001b[0;34m)\u001b[0m\u001b[0;34m\u001b[0m\u001b[0;34m\u001b[0m\u001b[0m\n",
            "\u001b[0;32m/usr/local/lib/python3.11/dist-packages/pandas/core/frame.py\u001b[0m in \u001b[0;36m__init__\u001b[0;34m(self, data, index, columns, dtype, copy)\u001b[0m\n\u001b[1;32m    742\u001b[0m             \u001b[0;32mraise\u001b[0m \u001b[0mValueError\u001b[0m\u001b[0;34m(\u001b[0m\u001b[0;34m\"index cannot be a set\"\u001b[0m\u001b[0;34m)\u001b[0m\u001b[0;34m\u001b[0m\u001b[0;34m\u001b[0m\u001b[0m\n\u001b[1;32m    743\u001b[0m         \u001b[0;32mif\u001b[0m \u001b[0misinstance\u001b[0m\u001b[0;34m(\u001b[0m\u001b[0mcolumns\u001b[0m\u001b[0;34m,\u001b[0m \u001b[0mset\u001b[0m\u001b[0;34m)\u001b[0m\u001b[0;34m:\u001b[0m\u001b[0;34m\u001b[0m\u001b[0;34m\u001b[0m\u001b[0m\n\u001b[0;32m--> 744\u001b[0;31m             \u001b[0;32mraise\u001b[0m \u001b[0mValueError\u001b[0m\u001b[0;34m(\u001b[0m\u001b[0;34m\"columns cannot be a set\"\u001b[0m\u001b[0;34m)\u001b[0m\u001b[0;34m\u001b[0m\u001b[0;34m\u001b[0m\u001b[0m\n\u001b[0m\u001b[1;32m    745\u001b[0m \u001b[0;34m\u001b[0m\u001b[0m\n\u001b[1;32m    746\u001b[0m         \u001b[0;32mif\u001b[0m \u001b[0mcopy\u001b[0m \u001b[0;32mis\u001b[0m \u001b[0;32mNone\u001b[0m\u001b[0;34m:\u001b[0m\u001b[0;34m\u001b[0m\u001b[0;34m\u001b[0m\u001b[0m\n",
            "\u001b[0;31mValueError\u001b[0m: columns cannot be a set"
          ]
        }
      ]
    },
    {
      "cell_type": "code",
      "source": [
        "\n",
        "# 전체 코퍼스에서 중복없이 단어목록(vocabulary) 생성 후 정렬\n",
        "vocabulary = sorted(list({token for sentence in processed_corpus for token in sentence}))\n",
        "print(\"\\nVocabulary:\")\n",
        "print(vocabulary)\n",
        "\n",
        "# 각 문장에 대한 Bag-of-Words 벡터 생성 함수\n",
        "def create_bow_vector(tokens, vocabulary):\n",
        "    vector = [0] * len(vocabulary)\n",
        "    for token in tokens:\n",
        "        if token in vocabulary:\n",
        "            idx = vocabulary.index(token)\n",
        "            vector[idx] += 1\n",
        "    return vector\n",
        "\n",
        "# 코퍼스의 각 문장에 대해 Bag-of-Words 벡터를 생성하고 DataFrame으로 변환\n",
        "bow_matrix = [create_bow_vector(tokens, vocabulary) for tokens in processed_corpus]\n",
        "bow_df_manual = pd.DataFrame(bow_matrix, columns=vocabulary)\n",
        "print(\"\\nBag-of-Words Matrix:\")\n",
        "bow_df_manual_ = bow_df_manual.sum() # dataframe 이 엑셀 처럼 작동 -> 엑셀 함수같은 연산 들 수행가능\n",
        "print(bow_df_manual_)\n"
      ],
      "metadata": {
        "colab": {
          "base_uri": "https://localhost:8080/"
        },
        "id": "OlZEdZLoIxU1",
        "outputId": "dd762cc5-b8c6-46a7-e6fe-ffb125db95b3"
      },
      "execution_count": 26,
      "outputs": [
        {
          "output_type": "stream",
          "name": "stdout",
          "text": [
            "\n",
            "Vocabulary:\n",
            "['a', 'analysis', 'and', 'as', 'bagofwords', 'baseline', 'capabilities', 'chatgpt', 'creative', 'demonstrate', 'despite', 'engineering', 'enhancing', 'extraction', 'feature', 'for', 'gpt4', 'has', 'in', 'key', 'language', 'llm', 'models', 'natural', 'offer', 'performance', 'plays', 'processing', 'prompt', 'remarkable', 'role', 'simplicity', 'such', 'text', 'their', 'transformed', 'understanding']\n",
            "\n",
            "Bag-of-Words Matrix:\n",
            "a                2\n",
            "analysis         1\n",
            "and              2\n",
            "as               1\n",
            "bagofwords       1\n",
            "baseline         1\n",
            "capabilities     1\n",
            "chatgpt          1\n",
            "creative         1\n",
            "demonstrate      1\n",
            "despite          1\n",
            "engineering      1\n",
            "enhancing        1\n",
            "extraction       1\n",
            "feature          1\n",
            "for              1\n",
            "gpt4             1\n",
            "has              1\n",
            "in               2\n",
            "key              1\n",
            "language         1\n",
            "llm              3\n",
            "models           1\n",
            "natural          1\n",
            "offer            1\n",
            "performance      1\n",
            "plays            1\n",
            "processing       1\n",
            "prompt           1\n",
            "remarkable       1\n",
            "role             1\n",
            "simplicity       1\n",
            "such             1\n",
            "text             1\n",
            "their            1\n",
            "transformed      1\n",
            "understanding    1\n",
            "dtype: int64\n"
          ]
        }
      ]
    },
    {
      "cell_type": "code",
      "source": [
        "bow_df_manual = pd.DataFrame(bow_matrix, columns=vocabulary)\n",
        "# pandas 라고 하는 파이썬 내부에서 엑셀같이 처리할 수 있도록 만들어주는 라이브러리\n",
        "bow_df_manual"
      ],
      "metadata": {
        "colab": {
          "base_uri": "https://localhost:8080/",
          "height": 224
        },
        "id": "Sj-hWJb1smPM",
        "outputId": "fb703c0a-6843-4838-acf8-7252e118d800"
      },
      "execution_count": 25,
      "outputs": [
        {
          "output_type": "execute_result",
          "data": {
            "text/plain": [
              "   a  analysis  and  as  bagofwords  baseline  capabilities  chatgpt  \\\n",
              "0  0         0    0   0           0         0             0        0   \n",
              "1  0         0    2   1           0         0             1        1   \n",
              "2  1         0    0   0           0         0             0        0   \n",
              "3  1         1    0   0           1         1             0        0   \n",
              "\n",
              "   creative  demonstrate  ...  processing  prompt  remarkable  role  \\\n",
              "0         0            0  ...           1       0           0     0   \n",
              "1         1            1  ...           0       0           1     0   \n",
              "2         0            0  ...           0       1           0     1   \n",
              "3         0            0  ...           0       0           0     0   \n",
              "\n",
              "   simplicity  such  text  their  transformed  understanding  \n",
              "0           0     0     0      0            1              0  \n",
              "1           0     1     0      0            0              1  \n",
              "2           0     0     0      0            0              0  \n",
              "3           1     0     1      1            0              0  \n",
              "\n",
              "[4 rows x 37 columns]"
            ],
            "text/html": [
              "\n",
              "  <div id=\"df-cb409bbb-0afb-4126-9d32-c521f3322a69\" class=\"colab-df-container\">\n",
              "    <div>\n",
              "<style scoped>\n",
              "    .dataframe tbody tr th:only-of-type {\n",
              "        vertical-align: middle;\n",
              "    }\n",
              "\n",
              "    .dataframe tbody tr th {\n",
              "        vertical-align: top;\n",
              "    }\n",
              "\n",
              "    .dataframe thead th {\n",
              "        text-align: right;\n",
              "    }\n",
              "</style>\n",
              "<table border=\"1\" class=\"dataframe\">\n",
              "  <thead>\n",
              "    <tr style=\"text-align: right;\">\n",
              "      <th></th>\n",
              "      <th>a</th>\n",
              "      <th>analysis</th>\n",
              "      <th>and</th>\n",
              "      <th>as</th>\n",
              "      <th>bagofwords</th>\n",
              "      <th>baseline</th>\n",
              "      <th>capabilities</th>\n",
              "      <th>chatgpt</th>\n",
              "      <th>creative</th>\n",
              "      <th>demonstrate</th>\n",
              "      <th>...</th>\n",
              "      <th>processing</th>\n",
              "      <th>prompt</th>\n",
              "      <th>remarkable</th>\n",
              "      <th>role</th>\n",
              "      <th>simplicity</th>\n",
              "      <th>such</th>\n",
              "      <th>text</th>\n",
              "      <th>their</th>\n",
              "      <th>transformed</th>\n",
              "      <th>understanding</th>\n",
              "    </tr>\n",
              "  </thead>\n",
              "  <tbody>\n",
              "    <tr>\n",
              "      <th>0</th>\n",
              "      <td>0</td>\n",
              "      <td>0</td>\n",
              "      <td>0</td>\n",
              "      <td>0</td>\n",
              "      <td>0</td>\n",
              "      <td>0</td>\n",
              "      <td>0</td>\n",
              "      <td>0</td>\n",
              "      <td>0</td>\n",
              "      <td>0</td>\n",
              "      <td>...</td>\n",
              "      <td>1</td>\n",
              "      <td>0</td>\n",
              "      <td>0</td>\n",
              "      <td>0</td>\n",
              "      <td>0</td>\n",
              "      <td>0</td>\n",
              "      <td>0</td>\n",
              "      <td>0</td>\n",
              "      <td>1</td>\n",
              "      <td>0</td>\n",
              "    </tr>\n",
              "    <tr>\n",
              "      <th>1</th>\n",
              "      <td>0</td>\n",
              "      <td>0</td>\n",
              "      <td>2</td>\n",
              "      <td>1</td>\n",
              "      <td>0</td>\n",
              "      <td>0</td>\n",
              "      <td>1</td>\n",
              "      <td>1</td>\n",
              "      <td>1</td>\n",
              "      <td>1</td>\n",
              "      <td>...</td>\n",
              "      <td>0</td>\n",
              "      <td>0</td>\n",
              "      <td>1</td>\n",
              "      <td>0</td>\n",
              "      <td>0</td>\n",
              "      <td>1</td>\n",
              "      <td>0</td>\n",
              "      <td>0</td>\n",
              "      <td>0</td>\n",
              "      <td>1</td>\n",
              "    </tr>\n",
              "    <tr>\n",
              "      <th>2</th>\n",
              "      <td>1</td>\n",
              "      <td>0</td>\n",
              "      <td>0</td>\n",
              "      <td>0</td>\n",
              "      <td>0</td>\n",
              "      <td>0</td>\n",
              "      <td>0</td>\n",
              "      <td>0</td>\n",
              "      <td>0</td>\n",
              "      <td>0</td>\n",
              "      <td>...</td>\n",
              "      <td>0</td>\n",
              "      <td>1</td>\n",
              "      <td>0</td>\n",
              "      <td>1</td>\n",
              "      <td>0</td>\n",
              "      <td>0</td>\n",
              "      <td>0</td>\n",
              "      <td>0</td>\n",
              "      <td>0</td>\n",
              "      <td>0</td>\n",
              "    </tr>\n",
              "    <tr>\n",
              "      <th>3</th>\n",
              "      <td>1</td>\n",
              "      <td>1</td>\n",
              "      <td>0</td>\n",
              "      <td>0</td>\n",
              "      <td>1</td>\n",
              "      <td>1</td>\n",
              "      <td>0</td>\n",
              "      <td>0</td>\n",
              "      <td>0</td>\n",
              "      <td>0</td>\n",
              "      <td>...</td>\n",
              "      <td>0</td>\n",
              "      <td>0</td>\n",
              "      <td>0</td>\n",
              "      <td>0</td>\n",
              "      <td>1</td>\n",
              "      <td>0</td>\n",
              "      <td>1</td>\n",
              "      <td>1</td>\n",
              "      <td>0</td>\n",
              "      <td>0</td>\n",
              "    </tr>\n",
              "  </tbody>\n",
              "</table>\n",
              "<p>4 rows × 37 columns</p>\n",
              "</div>\n",
              "    <div class=\"colab-df-buttons\">\n",
              "\n",
              "  <div class=\"colab-df-container\">\n",
              "    <button class=\"colab-df-convert\" onclick=\"convertToInteractive('df-cb409bbb-0afb-4126-9d32-c521f3322a69')\"\n",
              "            title=\"Convert this dataframe to an interactive table.\"\n",
              "            style=\"display:none;\">\n",
              "\n",
              "  <svg xmlns=\"http://www.w3.org/2000/svg\" height=\"24px\" viewBox=\"0 -960 960 960\">\n",
              "    <path d=\"M120-120v-720h720v720H120Zm60-500h600v-160H180v160Zm220 220h160v-160H400v160Zm0 220h160v-160H400v160ZM180-400h160v-160H180v160Zm440 0h160v-160H620v160ZM180-180h160v-160H180v160Zm440 0h160v-160H620v160Z\"/>\n",
              "  </svg>\n",
              "    </button>\n",
              "\n",
              "  <style>\n",
              "    .colab-df-container {\n",
              "      display:flex;\n",
              "      gap: 12px;\n",
              "    }\n",
              "\n",
              "    .colab-df-convert {\n",
              "      background-color: #E8F0FE;\n",
              "      border: none;\n",
              "      border-radius: 50%;\n",
              "      cursor: pointer;\n",
              "      display: none;\n",
              "      fill: #1967D2;\n",
              "      height: 32px;\n",
              "      padding: 0 0 0 0;\n",
              "      width: 32px;\n",
              "    }\n",
              "\n",
              "    .colab-df-convert:hover {\n",
              "      background-color: #E2EBFA;\n",
              "      box-shadow: 0px 1px 2px rgba(60, 64, 67, 0.3), 0px 1px 3px 1px rgba(60, 64, 67, 0.15);\n",
              "      fill: #174EA6;\n",
              "    }\n",
              "\n",
              "    .colab-df-buttons div {\n",
              "      margin-bottom: 4px;\n",
              "    }\n",
              "\n",
              "    [theme=dark] .colab-df-convert {\n",
              "      background-color: #3B4455;\n",
              "      fill: #D2E3FC;\n",
              "    }\n",
              "\n",
              "    [theme=dark] .colab-df-convert:hover {\n",
              "      background-color: #434B5C;\n",
              "      box-shadow: 0px 1px 3px 1px rgba(0, 0, 0, 0.15);\n",
              "      filter: drop-shadow(0px 1px 2px rgba(0, 0, 0, 0.3));\n",
              "      fill: #FFFFFF;\n",
              "    }\n",
              "  </style>\n",
              "\n",
              "    <script>\n",
              "      const buttonEl =\n",
              "        document.querySelector('#df-cb409bbb-0afb-4126-9d32-c521f3322a69 button.colab-df-convert');\n",
              "      buttonEl.style.display =\n",
              "        google.colab.kernel.accessAllowed ? 'block' : 'none';\n",
              "\n",
              "      async function convertToInteractive(key) {\n",
              "        const element = document.querySelector('#df-cb409bbb-0afb-4126-9d32-c521f3322a69');\n",
              "        const dataTable =\n",
              "          await google.colab.kernel.invokeFunction('convertToInteractive',\n",
              "                                                    [key], {});\n",
              "        if (!dataTable) return;\n",
              "\n",
              "        const docLinkHtml = 'Like what you see? Visit the ' +\n",
              "          '<a target=\"_blank\" href=https://colab.research.google.com/notebooks/data_table.ipynb>data table notebook</a>'\n",
              "          + ' to learn more about interactive tables.';\n",
              "        element.innerHTML = '';\n",
              "        dataTable['output_type'] = 'display_data';\n",
              "        await google.colab.output.renderOutput(dataTable, element);\n",
              "        const docLink = document.createElement('div');\n",
              "        docLink.innerHTML = docLinkHtml;\n",
              "        element.appendChild(docLink);\n",
              "      }\n",
              "    </script>\n",
              "  </div>\n",
              "\n",
              "\n",
              "<div id=\"df-413c50dd-0366-43b4-b7c0-2522e94a4026\">\n",
              "  <button class=\"colab-df-quickchart\" onclick=\"quickchart('df-413c50dd-0366-43b4-b7c0-2522e94a4026')\"\n",
              "            title=\"Suggest charts\"\n",
              "            style=\"display:none;\">\n",
              "\n",
              "<svg xmlns=\"http://www.w3.org/2000/svg\" height=\"24px\"viewBox=\"0 0 24 24\"\n",
              "     width=\"24px\">\n",
              "    <g>\n",
              "        <path d=\"M19 3H5c-1.1 0-2 .9-2 2v14c0 1.1.9 2 2 2h14c1.1 0 2-.9 2-2V5c0-1.1-.9-2-2-2zM9 17H7v-7h2v7zm4 0h-2V7h2v10zm4 0h-2v-4h2v4z\"/>\n",
              "    </g>\n",
              "</svg>\n",
              "  </button>\n",
              "\n",
              "<style>\n",
              "  .colab-df-quickchart {\n",
              "      --bg-color: #E8F0FE;\n",
              "      --fill-color: #1967D2;\n",
              "      --hover-bg-color: #E2EBFA;\n",
              "      --hover-fill-color: #174EA6;\n",
              "      --disabled-fill-color: #AAA;\n",
              "      --disabled-bg-color: #DDD;\n",
              "  }\n",
              "\n",
              "  [theme=dark] .colab-df-quickchart {\n",
              "      --bg-color: #3B4455;\n",
              "      --fill-color: #D2E3FC;\n",
              "      --hover-bg-color: #434B5C;\n",
              "      --hover-fill-color: #FFFFFF;\n",
              "      --disabled-bg-color: #3B4455;\n",
              "      --disabled-fill-color: #666;\n",
              "  }\n",
              "\n",
              "  .colab-df-quickchart {\n",
              "    background-color: var(--bg-color);\n",
              "    border: none;\n",
              "    border-radius: 50%;\n",
              "    cursor: pointer;\n",
              "    display: none;\n",
              "    fill: var(--fill-color);\n",
              "    height: 32px;\n",
              "    padding: 0;\n",
              "    width: 32px;\n",
              "  }\n",
              "\n",
              "  .colab-df-quickchart:hover {\n",
              "    background-color: var(--hover-bg-color);\n",
              "    box-shadow: 0 1px 2px rgba(60, 64, 67, 0.3), 0 1px 3px 1px rgba(60, 64, 67, 0.15);\n",
              "    fill: var(--button-hover-fill-color);\n",
              "  }\n",
              "\n",
              "  .colab-df-quickchart-complete:disabled,\n",
              "  .colab-df-quickchart-complete:disabled:hover {\n",
              "    background-color: var(--disabled-bg-color);\n",
              "    fill: var(--disabled-fill-color);\n",
              "    box-shadow: none;\n",
              "  }\n",
              "\n",
              "  .colab-df-spinner {\n",
              "    border: 2px solid var(--fill-color);\n",
              "    border-color: transparent;\n",
              "    border-bottom-color: var(--fill-color);\n",
              "    animation:\n",
              "      spin 1s steps(1) infinite;\n",
              "  }\n",
              "\n",
              "  @keyframes spin {\n",
              "    0% {\n",
              "      border-color: transparent;\n",
              "      border-bottom-color: var(--fill-color);\n",
              "      border-left-color: var(--fill-color);\n",
              "    }\n",
              "    20% {\n",
              "      border-color: transparent;\n",
              "      border-left-color: var(--fill-color);\n",
              "      border-top-color: var(--fill-color);\n",
              "    }\n",
              "    30% {\n",
              "      border-color: transparent;\n",
              "      border-left-color: var(--fill-color);\n",
              "      border-top-color: var(--fill-color);\n",
              "      border-right-color: var(--fill-color);\n",
              "    }\n",
              "    40% {\n",
              "      border-color: transparent;\n",
              "      border-right-color: var(--fill-color);\n",
              "      border-top-color: var(--fill-color);\n",
              "    }\n",
              "    60% {\n",
              "      border-color: transparent;\n",
              "      border-right-color: var(--fill-color);\n",
              "    }\n",
              "    80% {\n",
              "      border-color: transparent;\n",
              "      border-right-color: var(--fill-color);\n",
              "      border-bottom-color: var(--fill-color);\n",
              "    }\n",
              "    90% {\n",
              "      border-color: transparent;\n",
              "      border-bottom-color: var(--fill-color);\n",
              "    }\n",
              "  }\n",
              "</style>\n",
              "\n",
              "  <script>\n",
              "    async function quickchart(key) {\n",
              "      const quickchartButtonEl =\n",
              "        document.querySelector('#' + key + ' button');\n",
              "      quickchartButtonEl.disabled = true;  // To prevent multiple clicks.\n",
              "      quickchartButtonEl.classList.add('colab-df-spinner');\n",
              "      try {\n",
              "        const charts = await google.colab.kernel.invokeFunction(\n",
              "            'suggestCharts', [key], {});\n",
              "      } catch (error) {\n",
              "        console.error('Error during call to suggestCharts:', error);\n",
              "      }\n",
              "      quickchartButtonEl.classList.remove('colab-df-spinner');\n",
              "      quickchartButtonEl.classList.add('colab-df-quickchart-complete');\n",
              "    }\n",
              "    (() => {\n",
              "      let quickchartButtonEl =\n",
              "        document.querySelector('#df-413c50dd-0366-43b4-b7c0-2522e94a4026 button');\n",
              "      quickchartButtonEl.style.display =\n",
              "        google.colab.kernel.accessAllowed ? 'block' : 'none';\n",
              "    })();\n",
              "  </script>\n",
              "</div>\n",
              "\n",
              "  <div id=\"id_442eaf8d-6f5b-4197-a49d-bb4288eb6ac3\">\n",
              "    <style>\n",
              "      .colab-df-generate {\n",
              "        background-color: #E8F0FE;\n",
              "        border: none;\n",
              "        border-radius: 50%;\n",
              "        cursor: pointer;\n",
              "        display: none;\n",
              "        fill: #1967D2;\n",
              "        height: 32px;\n",
              "        padding: 0 0 0 0;\n",
              "        width: 32px;\n",
              "      }\n",
              "\n",
              "      .colab-df-generate:hover {\n",
              "        background-color: #E2EBFA;\n",
              "        box-shadow: 0px 1px 2px rgba(60, 64, 67, 0.3), 0px 1px 3px 1px rgba(60, 64, 67, 0.15);\n",
              "        fill: #174EA6;\n",
              "      }\n",
              "\n",
              "      [theme=dark] .colab-df-generate {\n",
              "        background-color: #3B4455;\n",
              "        fill: #D2E3FC;\n",
              "      }\n",
              "\n",
              "      [theme=dark] .colab-df-generate:hover {\n",
              "        background-color: #434B5C;\n",
              "        box-shadow: 0px 1px 3px 1px rgba(0, 0, 0, 0.15);\n",
              "        filter: drop-shadow(0px 1px 2px rgba(0, 0, 0, 0.3));\n",
              "        fill: #FFFFFF;\n",
              "      }\n",
              "    </style>\n",
              "    <button class=\"colab-df-generate\" onclick=\"generateWithVariable('bow_df_manual')\"\n",
              "            title=\"Generate code using this dataframe.\"\n",
              "            style=\"display:none;\">\n",
              "\n",
              "  <svg xmlns=\"http://www.w3.org/2000/svg\" height=\"24px\"viewBox=\"0 0 24 24\"\n",
              "       width=\"24px\">\n",
              "    <path d=\"M7,19H8.4L18.45,9,17,7.55,7,17.6ZM5,21V16.75L18.45,3.32a2,2,0,0,1,2.83,0l1.4,1.43a1.91,1.91,0,0,1,.58,1.4,1.91,1.91,0,0,1-.58,1.4L9.25,21ZM18.45,9,17,7.55Zm-12,3A5.31,5.31,0,0,0,4.9,8.1,5.31,5.31,0,0,0,1,6.5,5.31,5.31,0,0,0,4.9,4.9,5.31,5.31,0,0,0,6.5,1,5.31,5.31,0,0,0,8.1,4.9,5.31,5.31,0,0,0,12,6.5,5.46,5.46,0,0,0,6.5,12Z\"/>\n",
              "  </svg>\n",
              "    </button>\n",
              "    <script>\n",
              "      (() => {\n",
              "      const buttonEl =\n",
              "        document.querySelector('#id_442eaf8d-6f5b-4197-a49d-bb4288eb6ac3 button.colab-df-generate');\n",
              "      buttonEl.style.display =\n",
              "        google.colab.kernel.accessAllowed ? 'block' : 'none';\n",
              "\n",
              "      buttonEl.onclick = () => {\n",
              "        google.colab.notebook.generateWithVariable('bow_df_manual');\n",
              "      }\n",
              "      })();\n",
              "    </script>\n",
              "  </div>\n",
              "\n",
              "    </div>\n",
              "  </div>\n"
            ],
            "application/vnd.google.colaboratory.intrinsic+json": {
              "type": "dataframe",
              "variable_name": "bow_df_manual"
            }
          },
          "metadata": {},
          "execution_count": 25
        }
      ]
    },
    {
      "cell_type": "code",
      "source": [
        "bow_df_manual_ = bow_df_manual_/bow_df_manual_.sum()\n",
        "print(bow_df_manual_)"
      ],
      "metadata": {
        "colab": {
          "base_uri": "https://localhost:8080/"
        },
        "id": "qh0czsR1NSJS",
        "outputId": "41cf1d2e-22e3-452f-8c67-041124d1863a"
      },
      "execution_count": 36,
      "outputs": [
        {
          "output_type": "stream",
          "name": "stdout",
          "text": [
            "a                0.047619\n",
            "analysis         0.023810\n",
            "and              0.047619\n",
            "as               0.023810\n",
            "bagofwords       0.023810\n",
            "baseline         0.023810\n",
            "capabilities     0.023810\n",
            "chatgpt          0.023810\n",
            "creative         0.023810\n",
            "demonstrate      0.023810\n",
            "despite          0.023810\n",
            "engineering      0.023810\n",
            "enhancing        0.023810\n",
            "extraction       0.023810\n",
            "feature          0.023810\n",
            "for              0.023810\n",
            "gpt4             0.023810\n",
            "has              0.023810\n",
            "in               0.047619\n",
            "key              0.023810\n",
            "language         0.023810\n",
            "llm              0.071429\n",
            "models           0.023810\n",
            "natural          0.023810\n",
            "offer            0.023810\n",
            "performance      0.023810\n",
            "plays            0.023810\n",
            "processing       0.023810\n",
            "prompt           0.023810\n",
            "remarkable       0.023810\n",
            "role             0.023810\n",
            "simplicity       0.023810\n",
            "such             0.023810\n",
            "text             0.023810\n",
            "their            0.023810\n",
            "transformed      0.023810\n",
            "understanding    0.023810\n",
            "dtype: float64\n"
          ]
        }
      ]
    },
    {
      "cell_type": "code",
      "source": [
        "bow_df_manual_.index"
      ],
      "metadata": {
        "colab": {
          "base_uri": "https://localhost:8080/"
        },
        "id": "u2Q6xnJ0tkEi",
        "outputId": "761e55e0-9cd9-4288-a363-0d90312c9b02"
      },
      "execution_count": 38,
      "outputs": [
        {
          "output_type": "execute_result",
          "data": {
            "text/plain": [
              "Index(['a', 'analysis', 'and', 'as', 'bagofwords', 'baseline', 'capabilities',\n",
              "       'chatgpt', 'creative', 'demonstrate', 'despite', 'engineering',\n",
              "       'enhancing', 'extraction', 'feature', 'for', 'gpt4', 'has', 'in', 'key',\n",
              "       'language', 'llm', 'models', 'natural', 'offer', 'performance', 'plays',\n",
              "       'processing', 'prompt', 'remarkable', 'role', 'simplicity', 'such',\n",
              "       'text', 'their', 'transformed', 'understanding'],\n",
              "      dtype='object')"
            ]
          },
          "metadata": {},
          "execution_count": 38
        }
      ]
    },
    {
      "cell_type": "code",
      "source": [
        "bow_df_manual_.values"
      ],
      "metadata": {
        "colab": {
          "base_uri": "https://localhost:8080/"
        },
        "id": "TnZjjoS_uVnJ",
        "outputId": "e6aca4f7-0d3e-40d2-e407-628e52ea3caf"
      },
      "execution_count": 39,
      "outputs": [
        {
          "output_type": "execute_result",
          "data": {
            "text/plain": [
              "array([0.04761905, 0.02380952, 0.04761905, 0.02380952, 0.02380952,\n",
              "       0.02380952, 0.02380952, 0.02380952, 0.02380952, 0.02380952,\n",
              "       0.02380952, 0.02380952, 0.02380952, 0.02380952, 0.02380952,\n",
              "       0.02380952, 0.02380952, 0.02380952, 0.04761905, 0.02380952,\n",
              "       0.02380952, 0.07142857, 0.02380952, 0.02380952, 0.02380952,\n",
              "       0.02380952, 0.02380952, 0.02380952, 0.02380952, 0.02380952,\n",
              "       0.02380952, 0.02380952, 0.02380952, 0.02380952, 0.02380952,\n",
              "       0.02380952, 0.02380952])"
            ]
          },
          "metadata": {},
          "execution_count": 39
        }
      ]
    },
    {
      "cell_type": "code",
      "source": [
        "# sample 10개짜리 단어들\n",
        "# bow 활용해서 각각의 단어가 등장할 빈도수를 기준으로 가장 그럴 듯한 단어를 랜덤하게 하나씩 뽑아보겠다\n",
        "# 랜덤 샘플리 중 가장 익숙한 것이 주사위 던지기 모든 면ㅇ 1/6 확률\n",
        "for i in range(10):\n",
        "  print(np.random.choice(bow_df_manual_.index, p=bow_df_manual_.values))\n",
        "\n",
        "#bow_df_manual_.index 주사위 눈 값 / p=bow_df_manual_.values 확률값\n",
        "# 랜덤 과정을 수행함에 있어서 넘파이에서 제공하는 random, choice 라는 함수를 쓰겠다~\n",
        "# 저런 단어들 (pd.DataFrame의 인덱스) 중에서 단어를 고르겠다. 고르는데 어떤 확률로 구성되었다."
      ],
      "metadata": {
        "colab": {
          "base_uri": "https://localhost:8080/"
        },
        "id": "zukL8v3tOLa2",
        "outputId": "564dcbc3-f909-4a55-ccd3-0387f6658c4f"
      },
      "execution_count": 44,
      "outputs": [
        {
          "output_type": "stream",
          "name": "stdout",
          "text": [
            "demonstrate\n",
            "chatgpt\n",
            "extraction\n",
            "llm\n",
            "for\n",
            "analysis\n",
            "capabilities\n",
            "processing\n",
            "llm\n",
            "llm\n"
          ]
        }
      ]
    },
    {
      "cell_type": "markdown",
      "source": [
        "랜덤으로 출력됨"
      ],
      "metadata": {
        "id": "lT0B1Ep0ugML"
      }
    },
    {
      "cell_type": "code",
      "source": [],
      "metadata": {
        "id": "bG04sdIRuje2"
      },
      "execution_count": null,
      "outputs": []
    },
    {
      "cell_type": "markdown",
      "source": [
        "\n",
        "코드 설명\n",
        "\n",
        "전처리 및 토큰화:\n",
        "각 문장을 소문자로 변환하고 구두점을 제거한 후 NLTK의 word_tokenize 함수를 사용하여 토큰화합니다.\n",
        "\n",
        "수동 Bag-of-Words 구현:\n",
        "전체 코퍼스에서 고유 단어 목록을 생성한 다음, 각 문장에 대해 해당 단어가 몇 번 등장하는지를 세어 벡터로 만듭니다.\n",
        "\n",
        "그 다음 확률로 만들었습니다.\n"
      ],
      "metadata": {
        "id": "GIC-KmeSHJ1c"
      }
    },
    {
      "cell_type": "markdown",
      "source": [
        "#N-gram 예제코드\n"
      ],
      "metadata": {
        "id": "0Ms3xiaKPiSJ"
      }
    },
    {
      "cell_type": "code",
      "source": [
        "# n-gram 생성 (여기서는 2-gram, 즉 bigram)\n",
        "def generate_ngrams(tokens, n=2):\n",
        "    \"\"\"토큰 리스트에서 n-gram 리스트를 생성하는 함수\"\"\"\n",
        "    return [' '.join(tokens[i:i+n]) for i in range(len(tokens)-n+1)]\n",
        "\n",
        "n = 2  # bigram 설정\n",
        "corpus_ngrams = [generate_ngrams(tokens, n) for tokens in processed_corpus]\n",
        "print(\"\\nGenerated n-grams (Bigrams):\")\n",
        "for ngrams in corpus_ngrams:\n",
        "    print(ngrams)"
      ],
      "metadata": {
        "colab": {
          "base_uri": "https://localhost:8080/"
        },
        "id": "bYfG64L_PeR1",
        "outputId": "c6e8995f-06a5-49b6-904e-a953d40c2550"
      },
      "execution_count": null,
      "outputs": [
        {
          "output_type": "stream",
          "name": "stdout",
          "text": [
            "\n",
            "Generated n-grams (Bigrams):\n",
            "['llm has', 'has transformed', 'transformed natural', 'natural language', 'language processing']\n",
            "['llm such', 'such as', 'as gpt4', 'gpt4 and', 'and chatgpt', 'chatgpt demonstrate', 'demonstrate remarkable', 'remarkable understanding', 'understanding and', 'and creative', 'creative capabilities']\n",
            "['prompt engineering', 'engineering plays', 'plays a', 'a key', 'key role', 'role in', 'in enhancing', 'enhancing llm', 'llm performance']\n",
            "['bagofwords models', 'models despite', 'despite their', 'their simplicity', 'simplicity offer', 'offer a', 'a baseline', 'baseline for', 'for feature', 'feature extraction', 'extraction in', 'in text', 'text analysis']\n"
          ]
        }
      ]
    },
    {
      "cell_type": "code",
      "source": [
        "# 전체 코퍼스의 n-gram vocabulary 생성\n",
        "vocabulary_ngrams = sorted(list({ngram for ngrams in corpus_ngrams for ngram in ngrams}))\n",
        "print(\"\\nVocabulary (Bigrams):\")\n",
        "print(vocabulary_ngrams)"
      ],
      "metadata": {
        "colab": {
          "base_uri": "https://localhost:8080/"
        },
        "id": "ZSGyIeuBrfbW",
        "outputId": "fae2cb77-3e23-4b93-ebc4-80d6301d508c"
      },
      "execution_count": null,
      "outputs": [
        {
          "output_type": "stream",
          "name": "stdout",
          "text": [
            "\n",
            "Vocabulary (Bigrams):\n",
            "['a baseline', 'a key', 'and chatgpt', 'and creative', 'as gpt4', 'bagofwords models', 'baseline for', 'chatgpt demonstrate', 'creative capabilities', 'demonstrate remarkable', 'despite their', 'engineering plays', 'enhancing llm', 'extraction in', 'feature extraction', 'for feature', 'gpt4 and', 'has transformed', 'in enhancing', 'in text', 'key role', 'language processing', 'llm has', 'llm performance', 'llm such', 'models despite', 'natural language', 'offer a', 'plays a', 'prompt engineering', 'remarkable understanding', 'role in', 'simplicity offer', 'such as', 'text analysis', 'their simplicity', 'transformed natural', 'understanding and']\n"
          ]
        }
      ]
    },
    {
      "cell_type": "code",
      "source": [
        "# 각 문장에 대한 Bag-of-n-grams 벡터 생성 (수동 구현)\n",
        "def create_ngram_vector(ngrams, vocabulary):\n",
        "    vector = [0] * len(vocabulary)\n",
        "    for gram in ngrams:\n",
        "        if gram in vocabulary:\n",
        "            idx = vocabulary.index(gram)\n",
        "            vector[idx] += 1\n",
        "    return vector\n",
        "\n",
        "# 코퍼스의 각 문장에 대해 n-gram 벡터 생성 후 DataFrame으로 변환\n",
        "ngram_matrix = [create_ngram_vector(ngrams, vocabulary_ngrams) for ngrams in corpus_ngrams]\n",
        "ngram_df_manual = pd.DataFrame(ngram_matrix, columns=vocabulary_ngrams)\n",
        "print(\"\\nN-gram Matrix (Manual Implementation):\")\n",
        "print(ngram_df_manual)"
      ],
      "metadata": {
        "colab": {
          "base_uri": "https://localhost:8080/"
        },
        "id": "gUgvZJBgrjtl",
        "outputId": "80c2b82a-466b-499b-9045-b9205d39b4bc"
      },
      "execution_count": null,
      "outputs": [
        {
          "output_type": "stream",
          "name": "stdout",
          "text": [
            "\n",
            "N-gram Matrix (Manual Implementation):\n",
            "   a baseline  a key  and chatgpt  and creative  as gpt4  bagofwords models  \\\n",
            "0           0      0            0             0        0                  0   \n",
            "1           0      0            1             1        1                  0   \n",
            "2           0      1            0             0        0                  0   \n",
            "3           1      0            0             0        0                  1   \n",
            "\n",
            "   baseline for  chatgpt demonstrate  creative capabilities  \\\n",
            "0             0                    0                      0   \n",
            "1             0                    1                      1   \n",
            "2             0                    0                      0   \n",
            "3             1                    0                      0   \n",
            "\n",
            "   demonstrate remarkable  ...  plays a  prompt engineering  \\\n",
            "0                       0  ...        0                   0   \n",
            "1                       1  ...        0                   0   \n",
            "2                       0  ...        1                   1   \n",
            "3                       0  ...        0                   0   \n",
            "\n",
            "   remarkable understanding  role in  simplicity offer  such as  \\\n",
            "0                         0        0                 0        0   \n",
            "1                         1        0                 0        1   \n",
            "2                         0        1                 0        0   \n",
            "3                         0        0                 1        0   \n",
            "\n",
            "   text analysis  their simplicity  transformed natural  understanding and  \n",
            "0              0                 0                    1                  0  \n",
            "1              0                 0                    0                  1  \n",
            "2              0                 0                    0                  0  \n",
            "3              1                 1                    0                  0  \n",
            "\n",
            "[4 rows x 38 columns]\n"
          ]
        }
      ]
    },
    {
      "cell_type": "code",
      "source": [
        "# 전체 n-gram 빈도수 및 확률 계산\n",
        "ngram_total = ngram_df_manual.sum()\n",
        "print(\"\\nTotal N-gram Frequencies:\")\n",
        "print(ngram_total)\n",
        "\n",
        "total_ngrams = ngram_total.sum()\n",
        "ngram_probabilities = ngram_total / total_ngrams\n",
        "print(\"\\nN-gram Probabilities:\")\n",
        "print(ngram_probabilities)"
      ],
      "metadata": {
        "colab": {
          "base_uri": "https://localhost:8080/"
        },
        "id": "CLwotfCUrnfp",
        "outputId": "bfb66274-ce87-41e4-91f4-8f70e2f620be"
      },
      "execution_count": null,
      "outputs": [
        {
          "output_type": "stream",
          "name": "stdout",
          "text": [
            "\n",
            "Total N-gram Frequencies:\n",
            "a baseline                  1\n",
            "a key                       1\n",
            "and chatgpt                 1\n",
            "and creative                1\n",
            "as gpt4                     1\n",
            "bagofwords models           1\n",
            "baseline for                1\n",
            "chatgpt demonstrate         1\n",
            "creative capabilities       1\n",
            "demonstrate remarkable      1\n",
            "despite their               1\n",
            "engineering plays           1\n",
            "enhancing llm               1\n",
            "extraction in               1\n",
            "feature extraction          1\n",
            "for feature                 1\n",
            "gpt4 and                    1\n",
            "has transformed             1\n",
            "in enhancing                1\n",
            "in text                     1\n",
            "key role                    1\n",
            "language processing         1\n",
            "llm has                     1\n",
            "llm performance             1\n",
            "llm such                    1\n",
            "models despite              1\n",
            "natural language            1\n",
            "offer a                     1\n",
            "plays a                     1\n",
            "prompt engineering          1\n",
            "remarkable understanding    1\n",
            "role in                     1\n",
            "simplicity offer            1\n",
            "such as                     1\n",
            "text analysis               1\n",
            "their simplicity            1\n",
            "transformed natural         1\n",
            "understanding and           1\n",
            "dtype: int64\n",
            "\n",
            "N-gram Probabilities:\n",
            "a baseline                  0.026316\n",
            "a key                       0.026316\n",
            "and chatgpt                 0.026316\n",
            "and creative                0.026316\n",
            "as gpt4                     0.026316\n",
            "bagofwords models           0.026316\n",
            "baseline for                0.026316\n",
            "chatgpt demonstrate         0.026316\n",
            "creative capabilities       0.026316\n",
            "demonstrate remarkable      0.026316\n",
            "despite their               0.026316\n",
            "engineering plays           0.026316\n",
            "enhancing llm               0.026316\n",
            "extraction in               0.026316\n",
            "feature extraction          0.026316\n",
            "for feature                 0.026316\n",
            "gpt4 and                    0.026316\n",
            "has transformed             0.026316\n",
            "in enhancing                0.026316\n",
            "in text                     0.026316\n",
            "key role                    0.026316\n",
            "language processing         0.026316\n",
            "llm has                     0.026316\n",
            "llm performance             0.026316\n",
            "llm such                    0.026316\n",
            "models despite              0.026316\n",
            "natural language            0.026316\n",
            "offer a                     0.026316\n",
            "plays a                     0.026316\n",
            "prompt engineering          0.026316\n",
            "remarkable understanding    0.026316\n",
            "role in                     0.026316\n",
            "simplicity offer            0.026316\n",
            "such as                     0.026316\n",
            "text analysis               0.026316\n",
            "their simplicity            0.026316\n",
            "transformed natural         0.026316\n",
            "understanding and           0.026316\n",
            "dtype: float64\n"
          ]
        }
      ]
    },
    {
      "cell_type": "code",
      "source": [
        "# 확률에 따라 n-gram을 랜덤 샘플링 (예: 10번 샘플링)\n",
        "print(\"\\nSampled n-grams based on probability:\")\n",
        "for i in range(10):\n",
        "    print(np.random.choice(ngram_probabilities.index, p=ngram_probabilities.values))"
      ],
      "metadata": {
        "colab": {
          "base_uri": "https://localhost:8080/"
        },
        "id": "gDZ_IArErt7a",
        "outputId": "568f063a-30c4-4beb-a054-68df037c4114"
      },
      "execution_count": null,
      "outputs": [
        {
          "output_type": "stream",
          "name": "stdout",
          "text": [
            "\n",
            "Sampled n-grams based on probability:\n",
            "bagofwords models\n",
            "their simplicity\n",
            "llm has\n",
            "bagofwords models\n",
            "a key\n",
            "gpt4 and\n",
            "prompt engineering\n",
            "and creative\n",
            "prompt engineering\n",
            "engineering plays\n"
          ]
        }
      ]
    },
    {
      "cell_type": "markdown",
      "source": [
        "더 길게 한다면?"
      ],
      "metadata": {
        "id": "lxEdYaQOr5Ok"
      }
    },
    {
      "cell_type": "code",
      "source": [
        "n = 3 # 3-gram 설정\n",
        "corpus_ngrams = [generate_ngrams(tokens, n) for tokens in processed_corpus]\n",
        "print(\"\\nGenerated n-grams (Bigrams):\")\n",
        "for ngrams in corpus_ngrams:\n",
        "    print(ngrams)"
      ],
      "metadata": {
        "colab": {
          "base_uri": "https://localhost:8080/"
        },
        "id": "xhgO6becr2yl",
        "outputId": "c715f44c-332d-47df-81a4-d8b341b92360"
      },
      "execution_count": null,
      "outputs": [
        {
          "output_type": "stream",
          "name": "stdout",
          "text": [
            "\n",
            "Generated n-grams (Bigrams):\n",
            "['llm has transformed', 'has transformed natural', 'transformed natural language', 'natural language processing']\n",
            "['llm such as', 'such as gpt4', 'as gpt4 and', 'gpt4 and chatgpt', 'and chatgpt demonstrate', 'chatgpt demonstrate remarkable', 'demonstrate remarkable understanding', 'remarkable understanding and', 'understanding and creative', 'and creative capabilities']\n",
            "['prompt engineering plays', 'engineering plays a', 'plays a key', 'a key role', 'key role in', 'role in enhancing', 'in enhancing llm', 'enhancing llm performance']\n",
            "['bagofwords models despite', 'models despite their', 'despite their simplicity', 'their simplicity offer', 'simplicity offer a', 'offer a baseline', 'a baseline for', 'baseline for feature', 'for feature extraction', 'feature extraction in', 'extraction in text', 'in text analysis']\n"
          ]
        }
      ]
    },
    {
      "cell_type": "code",
      "source": [
        "# 전체 코퍼스의 n-gram vocabulary 생성\n",
        "vocabulary_ngrams = sorted(list({ngram for ngrams in corpus_ngrams for ngram in ngrams}))\n",
        "print(\"\\nVocabulary (Bigrams):\")\n",
        "print(vocabulary_ngrams)\n",
        "\n",
        "# 코퍼스의 각 문장에 대해 n-gram 벡터 생성 후 DataFrame으로 변환\n",
        "ngram_matrix = [create_ngram_vector(ngrams, vocabulary_ngrams) for ngrams in corpus_ngrams]\n",
        "ngram_df_manual = pd.DataFrame(ngram_matrix, columns=vocabulary_ngrams)\n",
        "print(\"\\nN-gram Matrix (Manual Implementation):\")\n",
        "print(ngram_df_manual)\n",
        "\n",
        "# 전체 n-gram 빈도수 및 확률 계산\n",
        "ngram_total = ngram_df_manual.sum()\n",
        "print(\"\\nTotal N-gram Frequencies:\")\n",
        "print(ngram_total)\n",
        "\n",
        "total_ngrams = ngram_total.sum()\n",
        "ngram_probabilities = ngram_total / total_ngrams\n",
        "print(\"\\nN-gram Probabilities:\")\n",
        "print(ngram_probabilities)"
      ],
      "metadata": {
        "colab": {
          "base_uri": "https://localhost:8080/"
        },
        "id": "EClvDQner80k",
        "outputId": "d34effe2-fd70-4102-f3ee-3dc97f3d191a"
      },
      "execution_count": null,
      "outputs": [
        {
          "output_type": "stream",
          "name": "stdout",
          "text": [
            "\n",
            "Vocabulary (Bigrams):\n",
            "['a baseline for', 'a key role', 'and chatgpt demonstrate', 'and creative capabilities', 'as gpt4 and', 'bagofwords models despite', 'baseline for feature', 'chatgpt demonstrate remarkable', 'demonstrate remarkable understanding', 'despite their simplicity', 'engineering plays a', 'enhancing llm performance', 'extraction in text', 'feature extraction in', 'for feature extraction', 'gpt4 and chatgpt', 'has transformed natural', 'in enhancing llm', 'in text analysis', 'key role in', 'llm has transformed', 'llm such as', 'models despite their', 'natural language processing', 'offer a baseline', 'plays a key', 'prompt engineering plays', 'remarkable understanding and', 'role in enhancing', 'simplicity offer a', 'such as gpt4', 'their simplicity offer', 'transformed natural language', 'understanding and creative']\n",
            "\n",
            "N-gram Matrix (Manual Implementation):\n",
            "   a baseline for  a key role  and chatgpt demonstrate  \\\n",
            "0               0           0                        0   \n",
            "1               0           0                        1   \n",
            "2               0           1                        0   \n",
            "3               1           0                        0   \n",
            "\n",
            "   and creative capabilities  as gpt4 and  bagofwords models despite  \\\n",
            "0                          0            0                          0   \n",
            "1                          1            1                          0   \n",
            "2                          0            0                          0   \n",
            "3                          0            0                          1   \n",
            "\n",
            "   baseline for feature  chatgpt demonstrate remarkable  \\\n",
            "0                     0                               0   \n",
            "1                     0                               1   \n",
            "2                     0                               0   \n",
            "3                     1                               0   \n",
            "\n",
            "   demonstrate remarkable understanding  despite their simplicity  ...  \\\n",
            "0                                     0                         0  ...   \n",
            "1                                     1                         0  ...   \n",
            "2                                     0                         0  ...   \n",
            "3                                     0                         1  ...   \n",
            "\n",
            "   offer a baseline  plays a key  prompt engineering plays  \\\n",
            "0                 0            0                         0   \n",
            "1                 0            0                         0   \n",
            "2                 0            1                         1   \n",
            "3                 1            0                         0   \n",
            "\n",
            "   remarkable understanding and  role in enhancing  simplicity offer a  \\\n",
            "0                             0                  0                   0   \n",
            "1                             1                  0                   0   \n",
            "2                             0                  1                   0   \n",
            "3                             0                  0                   1   \n",
            "\n",
            "   such as gpt4  their simplicity offer  transformed natural language  \\\n",
            "0             0                       0                             1   \n",
            "1             1                       0                             0   \n",
            "2             0                       0                             0   \n",
            "3             0                       1                             0   \n",
            "\n",
            "   understanding and creative  \n",
            "0                           0  \n",
            "1                           1  \n",
            "2                           0  \n",
            "3                           0  \n",
            "\n",
            "[4 rows x 34 columns]\n",
            "\n",
            "Total N-gram Frequencies:\n",
            "a baseline for                          1\n",
            "a key role                              1\n",
            "and chatgpt demonstrate                 1\n",
            "and creative capabilities               1\n",
            "as gpt4 and                             1\n",
            "bagofwords models despite               1\n",
            "baseline for feature                    1\n",
            "chatgpt demonstrate remarkable          1\n",
            "demonstrate remarkable understanding    1\n",
            "despite their simplicity                1\n",
            "engineering plays a                     1\n",
            "enhancing llm performance               1\n",
            "extraction in text                      1\n",
            "feature extraction in                   1\n",
            "for feature extraction                  1\n",
            "gpt4 and chatgpt                        1\n",
            "has transformed natural                 1\n",
            "in enhancing llm                        1\n",
            "in text analysis                        1\n",
            "key role in                             1\n",
            "llm has transformed                     1\n",
            "llm such as                             1\n",
            "models despite their                    1\n",
            "natural language processing             1\n",
            "offer a baseline                        1\n",
            "plays a key                             1\n",
            "prompt engineering plays                1\n",
            "remarkable understanding and            1\n",
            "role in enhancing                       1\n",
            "simplicity offer a                      1\n",
            "such as gpt4                            1\n",
            "their simplicity offer                  1\n",
            "transformed natural language            1\n",
            "understanding and creative              1\n",
            "dtype: int64\n",
            "\n",
            "N-gram Probabilities:\n",
            "a baseline for                          0.029412\n",
            "a key role                              0.029412\n",
            "and chatgpt demonstrate                 0.029412\n",
            "and creative capabilities               0.029412\n",
            "as gpt4 and                             0.029412\n",
            "bagofwords models despite               0.029412\n",
            "baseline for feature                    0.029412\n",
            "chatgpt demonstrate remarkable          0.029412\n",
            "demonstrate remarkable understanding    0.029412\n",
            "despite their simplicity                0.029412\n",
            "engineering plays a                     0.029412\n",
            "enhancing llm performance               0.029412\n",
            "extraction in text                      0.029412\n",
            "feature extraction in                   0.029412\n",
            "for feature extraction                  0.029412\n",
            "gpt4 and chatgpt                        0.029412\n",
            "has transformed natural                 0.029412\n",
            "in enhancing llm                        0.029412\n",
            "in text analysis                        0.029412\n",
            "key role in                             0.029412\n",
            "llm has transformed                     0.029412\n",
            "llm such as                             0.029412\n",
            "models despite their                    0.029412\n",
            "natural language processing             0.029412\n",
            "offer a baseline                        0.029412\n",
            "plays a key                             0.029412\n",
            "prompt engineering plays                0.029412\n",
            "remarkable understanding and            0.029412\n",
            "role in enhancing                       0.029412\n",
            "simplicity offer a                      0.029412\n",
            "such as gpt4                            0.029412\n",
            "their simplicity offer                  0.029412\n",
            "transformed natural language            0.029412\n",
            "understanding and creative              0.029412\n",
            "dtype: float64\n"
          ]
        }
      ]
    },
    {
      "cell_type": "code",
      "source": [
        "# 확률에 따라 n-gram을 랜덤 샘플링 (예: 10번 샘플링)\n",
        "print(\"\\nSampled n-grams based on probability:\")\n",
        "for i in range(10):\n",
        "    print(np.random.choice(ngram_probabilities.index, p=ngram_probabilities.values))"
      ],
      "metadata": {
        "colab": {
          "base_uri": "https://localhost:8080/"
        },
        "id": "y4_9QiFrsIWA",
        "outputId": "94d51af0-27f8-43a4-ab94-beade7fbfad4"
      },
      "execution_count": null,
      "outputs": [
        {
          "output_type": "stream",
          "name": "stdout",
          "text": [
            "\n",
            "Sampled n-grams based on probability:\n",
            "such as gpt4\n",
            "llm has transformed\n",
            "key role in\n",
            "feature extraction in\n",
            "and chatgpt demonstrate\n",
            "demonstrate remarkable understanding\n",
            "transformed natural language\n",
            "enhancing llm performance\n",
            "offer a baseline\n",
            "despite their simplicity\n"
          ]
        }
      ]
    }
  ]
}